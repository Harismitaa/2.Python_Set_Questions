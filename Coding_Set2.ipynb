{
 "cells": [
  {
   "cell_type": "code",
   "execution_count": 2,
   "id": "aba1475d",
   "metadata": {},
   "outputs": [
    {
     "name": "stdin",
     "output_type": "stream",
     "text": [
      "Enter a word hello\n"
     ]
    },
    {
     "name": "stdout",
     "output_type": "stream",
     "text": [
      "olleh\n"
     ]
    }
   ],
   "source": [
    "#1.Write a Python program to find the reverse of a string. Expected Output (for input \"hello\"):\n",
    "#olleh\n",
    "\n",
    "w1=input(\"Enter a word\")\n",
    "rev_w1=w1[::-1]\n",
    "print(rev_w1)\n"
   ]
  },
  {
   "cell_type": "code",
   "execution_count": 10,
   "id": "5b1ec143",
   "metadata": {},
   "outputs": [
    {
     "name": "stdout",
     "output_type": "stream",
     "text": [
      "0 1 1 2 3 5 8 13 21 34\n"
     ]
    }
   ],
   "source": [
    "#2.Write a Python program to generate the Fibonacci sequence up to 10 terms.\n",
    "#Expected Output:\n",
    "#0 1 1 2 3 5 8 13 21 34\n",
    "n=10\n",
    "flist=[0,1]\n",
    "for i in range(2,n):\n",
    "    flist.append(flist[i-1]+flist[i-2])\n",
    "print(*flist)\n"
   ]
  },
  {
   "cell_type": "code",
   "execution_count": 11,
   "id": "c656f04a",
   "metadata": {},
   "outputs": [
    {
     "name": "stdin",
     "output_type": "stream",
     "text": [
      "Enter a word madam\n"
     ]
    },
    {
     "name": "stdout",
     "output_type": "stream",
     "text": [
      "madam is a Palindrome\n"
     ]
    }
   ],
   "source": [
    "#3.Write a Python function to check if a given string is a palindrome.\n",
    "#Expected Output (for input \"madam\"):\n",
    "#madam is a palindrome\n",
    "\n",
    "w1=input(\"Enter a word\")\n",
    "rev_w1=w1[::-1]\n",
    "if(w1==rev_w1):\n",
    "    print(\"%s is a Palindrome\"%w1)\n",
    "else:\n",
    "    print(\"%s is not a Palindrome\"%w1)\n",
    "\n"
   ]
  },
  {
   "cell_type": "code",
   "execution_count": 13,
   "id": "cd7b0a78",
   "metadata": {},
   "outputs": [
    {
     "name": "stdin",
     "output_type": "stream",
     "text": [
      "enter a word vowels\n"
     ]
    },
    {
     "name": "stdout",
     "output_type": "stream",
     "text": [
      "2\n"
     ]
    }
   ],
   "source": [
    "#4.Write a Python program to count the number of vowels in a given string. \n",
    "#Expected Output (for input \"education\"):\n",
    "#Number of vowels: 5\n",
    "\n",
    "vowels=['a','e','i','o','u']\n",
    "count=0\n",
    "w1=input(\"enter a word\")\n",
    "for i in w1:\n",
    "    if(i in vowels):\n",
    "        count+=1\n",
    "print(count)\n",
    "\n",
    "\n",
    "\n",
    "\n"
   ]
  },
  {
   "cell_type": "code",
   "execution_count": 28,
   "id": "bdbb9b19",
   "metadata": {},
   "outputs": [
    {
     "name": "stdin",
     "output_type": "stream",
     "text": [
      "Enter numbers separated by spaces 1 2 2 3 4 4 5\n"
     ]
    },
    {
     "name": "stdout",
     "output_type": "stream",
     "text": [
      "[1, 2, 3, 4, 5]\n"
     ]
    }
   ],
   "source": [
    "#5.Write a Python program to remove duplicates from a list.\n",
    "#Expected Output (for input [1, 2, 2, 3, 4, 4, 5]):\n",
    "#[1, 2, 3, 4, 5]\n",
    "\n",
    "num=input(\"Enter numbers separated by spaces\")\n",
    "list1=list(map(int,num.split(\" \")))\n",
    "list1=list(dict.fromkeys(list1))\n",
    "print(list1)\n",
    "        \n",
    "\n",
    "\n",
    "\n"
   ]
  },
  {
   "cell_type": "code",
   "execution_count": null,
   "id": "4374d988-841b-4f0b-9802-168e7c1471f2",
   "metadata": {},
   "outputs": [],
   "source": []
  }
 ],
 "metadata": {
  "kernelspec": {
   "display_name": "Python 3 (ipykernel)",
   "language": "python",
   "name": "python3"
  },
  "language_info": {
   "codemirror_mode": {
    "name": "ipython",
    "version": 3
   },
   "file_extension": ".py",
   "mimetype": "text/x-python",
   "name": "python",
   "nbconvert_exporter": "python",
   "pygments_lexer": "ipython3",
   "version": "3.13.5"
  }
 },
 "nbformat": 4,
 "nbformat_minor": 5
}
