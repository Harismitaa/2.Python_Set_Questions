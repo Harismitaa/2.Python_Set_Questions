{
 "cells": [
  {
   "cell_type": "code",
   "execution_count": 11,
   "id": "d8cb05f5-fd38-45c2-b9fd-853a236b41f5",
   "metadata": {},
   "outputs": [
    {
     "name": "stdin",
     "output_type": "stream",
     "text": [
      "Enter the transaction amount: 4000\n"
     ]
    },
    {
     "name": "stdout",
     "output_type": "stream",
     "text": [
      "Positive\n"
     ]
    }
   ],
   "source": [
    "amount=int(input(\"Enter the transaction amount:\"))\n",
    "if(amount==0):\n",
    "    print(\"Zero\")\n",
    "elif(amount<0):\n",
    "    print(\"Negative\")\n",
    "else:\n",
    "    print(\"Positive\")"
   ]
  },
  {
   "cell_type": "code",
   "execution_count": 12,
   "id": "90343e4d-8292-4720-8854-fe80d56cf8a8",
   "metadata": {},
   "outputs": [
    {
     "name": "stdin",
     "output_type": "stream",
     "text": [
      "Enter your pwd 54327\n"
     ]
    },
    {
     "name": "stdout",
     "output_type": "stream",
     "text": [
      "Allow\n"
     ]
    }
   ],
   "source": [
    "pwd=54327\n",
    "def sum_pwd(p):\n",
    "    sum=0\n",
    "    while(p>0):\n",
    "        sum=sum+(p%10)\n",
    "        p=p//10\n",
    "    return sum\n",
    "check=sum_pwd(pwd)\n",
    "user_pwd=int(input(\"Enter your pwd\"))\n",
    "if(sum_pwd(user_pwd)==check):\n",
    "    if(user_pwd==pwd):\n",
    "        print(\"Allow\")\n",
    "else:\n",
    "    print(\"check password\")\n",
    "\n",
    "\n",
    "        "
   ]
  },
  {
   "cell_type": "code",
   "execution_count": null,
   "id": "6dc1a987-49f5-44c4-b536-c1e8bb78d163",
   "metadata": {},
   "outputs": [],
   "source": [
    "tran_ID=int(input(\"Enter the ID\"))\n",
    "num=str(tran_ID)\n",
    "rev_ID=num[::-1]\n",
    "print(int(rev_ID))"
   ]
  },
  {
   "cell_type": "code",
   "execution_count": 13,
   "id": "4c670096-a9ad-4f78-a92d-350055f610b5",
   "metadata": {},
   "outputs": [
    {
     "name": "stdin",
     "output_type": "stream",
     "text": [
      "Enter Login ID 23\n"
     ]
    },
    {
     "name": "stdout",
     "output_type": "stream",
     "text": [
      "Enable\n"
     ]
    }
   ],
   "source": [
    "user_ID=int(input(\"Enter Login ID\"))\n",
    "def isprime(id):\n",
    "    if(id<=1):\n",
    "        return False\n",
    "    else:\n",
    "        for i in range(2,int(id**0.5)+1):\n",
    "            if (id%i==0):\n",
    "                return False\n",
    "            return True\n",
    "check=isprime(user_ID)\n",
    "if(check==False):\n",
    "    print(\"Disabled\")\n",
    "else:\n",
    "    print(\"Enable\")"
   ]
  },
  {
   "cell_type": "code",
   "execution_count": 14,
   "id": "fa2a08aa-214c-4ef4-9dc3-3f131cce8f65",
   "metadata": {},
   "outputs": [
    {
     "name": "stdout",
     "output_type": "stream",
     "text": [
      "120\n"
     ]
    }
   ],
   "source": [
    "def fact(n):\n",
    "    fact=1\n",
    "    if(n==0 or n==1):\n",
    "        return 1\n",
    "    else:\n",
    "        for i in range(1,n+1):\n",
    "           fact=fact*i\n",
    "        return fact\n",
    "print(fact(5))\n"
   ]
  },
  {
   "cell_type": "code",
   "execution_count": 15,
   "id": "8322a5fa-0204-4218-bd98-8b3afb22044c",
   "metadata": {},
   "outputs": [
    {
     "name": "stdin",
     "output_type": "stream",
     "text": [
      "Ticket number 153\n"
     ]
    },
    {
     "name": "stdout",
     "output_type": "stream",
     "text": [
      "Armstrong Number\n"
     ]
    }
   ],
   "source": [
    "ticket=int(input(\"Ticket number\"))\n",
    "ticket_len=len(str(ticket))\n",
    "ticket_check=ticket\n",
    "sum=0\n",
    "for i in range(1,ticket_len+1):\n",
    "    ticket_sum=ticket_check%10\n",
    "    sum=sum+(ticket_sum**ticket_len)\n",
    "    ticket_check=ticket_check//10\n",
    "if(sum==ticket):\n",
    "    print(\"Armstrong Number\")\n",
    "else:\n",
    "    print(\"Not Armstrong Number\")"
   ]
  },
  {
   "cell_type": "code",
   "execution_count": 16,
   "id": "5dae81ab-3b31-4d7f-b6c4-69874ce0151e",
   "metadata": {},
   "outputs": [
    {
     "name": "stdin",
     "output_type": "stream",
     "text": [
      "Enter a password trieo23w\n"
     ]
    },
    {
     "name": "stdout",
     "output_type": "stream",
     "text": [
      "wrieo23t\n"
     ]
    }
   ],
   "source": [
    "pwd=input(\"Enter a password\")\n",
    "pwd_char=list(pwd)\n",
    "pwd_len=len(pwd)\n",
    "pwd_char[0],pwd_char[pwd_len-1]=pwd_char[pwd_len-1],pwd_char[0]\n",
    "pwd_new=\"\".join(pwd_char)\n",
    "print(pwd_new)"
   ]
  },
  {
   "cell_type": "code",
   "execution_count": 8,
   "id": "c86e1d77-821a-4624-ae05-730bcad2faec",
   "metadata": {},
   "outputs": [
    {
     "name": "stdin",
     "output_type": "stream",
     "text": [
      "Enter a number 13\n"
     ]
    },
    {
     "name": "stdout",
     "output_type": "stream",
     "text": [
      "1101\n"
     ]
    }
   ],
   "source": [
    "num=int(input(\"Enter a number\"))\n",
    "temp=0\n",
    "while(num>0):\n",
    "    temp=temp+num%2\n",
    "    num=num//2\n",
    "    temp=temp*10\n",
    "temp2=str(temp)\n",
    "temp3=temp2[::-1]\n",
    "num_bin=temp3.lstrip('0')\n",
    "print(num_bin)"
   ]
  },
  {
   "cell_type": "code",
   "execution_count": 17,
   "id": "213e27d4-0726-4526-802a-71f77cb66a11",
   "metadata": {},
   "outputs": [
    {
     "name": "stdin",
     "output_type": "stream",
     "text": [
      "Enter a sentence the sentence is longer\n"
     ]
    },
    {
     "name": "stdout",
     "output_type": "stream",
     "text": [
      "sentence\n"
     ]
    }
   ],
   "source": [
    "s=input(\"Enter a sentence\")\n",
    "L=\"\"\n",
    "word=s.split()\n",
    "for temp in word:\n",
    "    if len(temp)>len(L):\n",
    "        L=temp\n",
    "print(L)\n",
    "        "
   ]
  },
  {
   "cell_type": "code",
   "execution_count": 19,
   "id": "2174f67e-24ad-4372-91a4-8e3484896f87",
   "metadata": {},
   "outputs": [
    {
     "name": "stdin",
     "output_type": "stream",
     "text": [
      "Enter word1 trio\n",
      "Enter word2 riot\n"
     ]
    },
    {
     "name": "stdout",
     "output_type": "stream",
     "text": [
      "Anagrams\n"
     ]
    }
   ],
   "source": [
    "w1=input(\"Enter word1\")\n",
    "w2=input(\"Enter word2\")\n",
    "t1=\"\".join(sorted(w1))\n",
    "t2=\"\".join(sorted(w2))\n",
    "if(t1==t2):\n",
    "    print(\"Anagrams\")\n",
    "else:\n",
    "    print(\"Not Anagrams\")"
   ]
  },
  {
   "cell_type": "code",
   "execution_count": null,
   "id": "cab0049f-b6e4-4bb3-8ca6-523082ae03e8",
   "metadata": {},
   "outputs": [],
   "source": []
  }
 ],
 "metadata": {
  "kernelspec": {
   "display_name": "Python 3 (ipykernel)",
   "language": "python",
   "name": "python3"
  },
  "language_info": {
   "codemirror_mode": {
    "name": "ipython",
    "version": 3
   },
   "file_extension": ".py",
   "mimetype": "text/x-python",
   "name": "python",
   "nbconvert_exporter": "python",
   "pygments_lexer": "ipython3",
   "version": "3.13.5"
  }
 },
 "nbformat": 4,
 "nbformat_minor": 5
}
