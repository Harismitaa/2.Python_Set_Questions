{
 "cells": [
  {
   "cell_type": "code",
   "execution_count": 1,
   "id": "f6947b3e-8612-410c-8181-d27ab50ecd2c",
   "metadata": {},
   "outputs": [
    {
     "name": "stdin",
     "output_type": "stream",
     "text": [
      "Your Age 19\n"
     ]
    },
    {
     "name": "stdout",
     "output_type": "stream",
     "text": [
      "Eligible to vote\n"
     ]
    }
   ],
   "source": [
    "age=int(input(\"Your Age\"))\n",
    "if(age>=18):\n",
    "    print(\"Eligible to vote\")\n",
    "else:\n",
    "    print(\"Not Eligible to vote\")"
   ]
  },
  {
   "cell_type": "code",
   "execution_count": 3,
   "id": "ec08b9f6-3d56-47cf-9d05-8bb698074a19",
   "metadata": {},
   "outputs": [
    {
     "name": "stdout",
     "output_type": "stream",
     "text": [
      "83\n"
     ]
    }
   ],
   "source": [
    "list=[26,72,65,83,23]\n",
    "large=list[0]\n",
    "for temp in list:\n",
    "    if(large<temp):\n",
    "        large=temp\n",
    "print(large)"
   ]
  },
  {
   "cell_type": "code",
   "execution_count": 5,
   "id": "832ad07d-024a-4813-b1e3-4ce676f7a577",
   "metadata": {},
   "outputs": [
    {
     "name": "stdin",
     "output_type": "stream",
     "text": [
      "Your Salary 51000\n"
     ]
    },
    {
     "name": "stdout",
     "output_type": "stream",
     "text": [
      "Bonus is 5100.0\n"
     ]
    }
   ],
   "source": [
    "salary=int(input(\"Your Salary\"))\n",
    "if(salary>=50000):\n",
    "    print(\"Bonus is\",salary/10)\n",
    "else:\n",
    "    print(\"No bonus\")"
   ]
  },
  {
   "cell_type": "code",
   "execution_count": 9,
   "id": "bc859bf4-5c4d-4e4e-84ad-cbd4ee27e763",
   "metadata": {},
   "outputs": [
    {
     "name": "stdin",
     "output_type": "stream",
     "text": [
      "Enter a num 4\n"
     ]
    },
    {
     "name": "stdout",
     "output_type": "stream",
     "text": [
      "Even\n"
     ]
    }
   ],
   "source": [
    "Num1=int(input(\"Enter a num\"))\n",
    "if(Num1%2==0):\n",
    "    print(\"Even\")\n",
    "else:\n",
    "    print(\"Odd\")\n"
   ]
  },
  {
   "cell_type": "code",
   "execution_count": 14,
   "id": "0aff5fe5-924d-425c-bc05-c1d9664a4083",
   "metadata": {},
   "outputs": [
    {
     "name": "stdin",
     "output_type": "stream",
     "text": [
      "Any word/sentence The hello\n"
     ]
    },
    {
     "name": "stdout",
     "output_type": "stream",
     "text": [
      "olleh ehT\n"
     ]
    }
   ],
   "source": [
    "word=input(\"Any word/sentence\")\n",
    "rev=word[::-1]\n",
    "print(rev)"
   ]
  },
  {
   "cell_type": "code",
   "execution_count": 15,
   "id": "7f3ec86f-11e2-4e18-930e-4dfaf9f02ce7",
   "metadata": {},
   "outputs": [
    {
     "name": "stdin",
     "output_type": "stream",
     "text": [
      "Any word/sentence Hello world\n"
     ]
    },
    {
     "name": "stdout",
     "output_type": "stream",
     "text": [
      "dlrow olleH\n"
     ]
    }
   ],
   "source": [
    "word=input(\"Any word/sentence\")\n",
    "rev=\"\".join(reversed(word))\n",
    "print(rev)"
   ]
  },
  {
   "cell_type": "code",
   "execution_count": 18,
   "id": "cd8a0e4d-d553-4c03-b7c9-a6a9eff78a07",
   "metadata": {},
   "outputs": [
    {
     "name": "stdin",
     "output_type": "stream",
     "text": [
      "Any word/sentence The hello\n"
     ]
    },
    {
     "name": "stdout",
     "output_type": "stream",
     "text": [
      "olleh ehT\n"
     ]
    }
   ],
   "source": [
    "word=input(\"Any word/sentence\")\n",
    "rev=\"\"\n",
    "for char in word:\n",
    "    rev= char + rev\n",
    "print(rev)"
   ]
  },
  {
   "cell_type": "code",
   "execution_count": 19,
   "id": "9382d630-0662-4847-8594-0e7e116d973f",
   "metadata": {},
   "outputs": [
    {
     "name": "stdin",
     "output_type": "stream",
     "text": [
      "Your Score 39\n"
     ]
    },
    {
     "name": "stdout",
     "output_type": "stream",
     "text": [
      "Fail\n"
     ]
    }
   ],
   "source": [
    "Sub=int(input(\"Your Score\"))\n",
    "if(Sub>=40):\n",
    "    print(\"Pass\")\n",
    "else:\n",
    "    print(\"Fail\")"
   ]
  },
  {
   "cell_type": "code",
   "execution_count": 21,
   "id": "03bd6d83-defe-4f41-83b9-c7ec752e6b33",
   "metadata": {},
   "outputs": [
    {
     "name": "stdin",
     "output_type": "stream",
     "text": [
      "your bill 120\n"
     ]
    },
    {
     "name": "stdout",
     "output_type": "stream",
     "text": [
      "After discount bill 96.0\n"
     ]
    }
   ],
   "source": [
    "bill=int(input(\"your bill\"))\n",
    "if(bill>=100):\n",
    "    total=bill - (bill/100)*20\n",
    "    print(\"After discount bill\",total)\n",
    "else:\n",
    "    print(\"no discount\")\n",
    "    "
   ]
  },
  {
   "cell_type": "code",
   "execution_count": 22,
   "id": "7cf8d309-2d38-47b5-b5b7-ede6c13fecac",
   "metadata": {},
   "outputs": [
    {
     "name": "stdin",
     "output_type": "stream",
     "text": [
      "Amount you want to withdraw 400\n"
     ]
    },
    {
     "name": "stdout",
     "output_type": "stream",
     "text": [
      "Withdraw successfull, your current balance is 200\n"
     ]
    }
   ],
   "source": [
    "Balance=600\n",
    "withdraw=int(input(\"Amount you want to withdraw\"))\n",
    "if(withdraw<Balance):\n",
    "    print(\"Withdraw successfull, your current balance is\",Balance-withdraw)\n",
    "else:\n",
    "    (\"Balance not enough\")"
   ]
  },
  {
   "cell_type": "code",
   "execution_count": 35,
   "id": "fa1daf3e-dcfa-4287-96fa-6c87e10aed4d",
   "metadata": {},
   "outputs": [
    {
     "name": "stdin",
     "output_type": "stream",
     "text": [
      "Enter the year to check 1900\n"
     ]
    },
    {
     "name": "stdout",
     "output_type": "stream",
     "text": [
      "Not a leap year\n"
     ]
    }
   ],
   "source": [
    "year=int(input(\"Enter the year to check\"))\n",
    "if(year%4==0 and year%100!=0) or (year%400==0):\n",
    "    print(\"Leap year\")\n",
    "else:\n",
    "    print(\"Not a leap year\")\n",
    "    \n",
    "    \n"
   ]
  },
  {
   "cell_type": "code",
   "execution_count": 46,
   "id": "deb557f5-89d4-4206-a448-e7d7e6e574f1",
   "metadata": {},
   "outputs": [
    {
     "name": "stdin",
     "output_type": "stream",
     "text": [
      "Enter number with spaces 4 6 3 2 10\n"
     ]
    },
    {
     "name": "stdout",
     "output_type": "stream",
     "text": [
      "['4', '6', '3', '2', '10']\n",
      "4\n",
      "6\n",
      "2\n",
      "10\n"
     ]
    }
   ],
   "source": [
    "list1=input(\"Enter number with spaces\").split()\n",
    "print(list1)\n",
    "list2=[int(s) for s in list1] \n",
    "for temp in list2:\n",
    "    if(temp%2==0):\n",
    "        print(temp)\n",
    "\n"
   ]
  },
  {
   "cell_type": "code",
   "execution_count": null,
   "id": "28c56853-e434-4cca-9420-70f63f593132",
   "metadata": {},
   "outputs": [],
   "source": []
  }
 ],
 "metadata": {
  "kernelspec": {
   "display_name": "Python 3 (ipykernel)",
   "language": "python",
   "name": "python3"
  },
  "language_info": {
   "codemirror_mode": {
    "name": "ipython",
    "version": 3
   },
   "file_extension": ".py",
   "mimetype": "text/x-python",
   "name": "python",
   "nbconvert_exporter": "python",
   "pygments_lexer": "ipython3",
   "version": "3.13.5"
  }
 },
 "nbformat": 4,
 "nbformat_minor": 5
}
