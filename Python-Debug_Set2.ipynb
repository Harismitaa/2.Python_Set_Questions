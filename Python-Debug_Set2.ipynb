{
 "cells": [
  {
   "cell_type": "code",
   "execution_count": 2,
   "id": "90e9fa4e",
   "metadata": {},
   "outputs": [
    {
     "name": "stdout",
     "output_type": "stream",
     "text": [
      "4.0\n"
     ]
    }
   ],
   "source": [
    "#1.Find the error in the following Python code:\n",
    "\n",
    "#math is case sensitive\n",
    "import math\n",
    "print(math.sqrt(16))\n",
    "\n"
   ]
  },
  {
   "cell_type": "code",
   "execution_count": 4,
   "id": "55520fd2",
   "metadata": {},
   "outputs": [
    {
     "name": "stdout",
     "output_type": "stream",
     "text": [
      "15\n"
     ]
    }
   ],
   "source": [
    "#2.Find the error in the following Python code:\n",
    "\n",
    "#argument should be passed to the function\n",
    "def my_function(x):\n",
    "    x += 5\n",
    "    print(x)\n",
    "\n",
    "x = 10\n",
    "my_function(x)\n"
   ]
  },
  {
   "cell_type": "code",
   "execution_count": 7,
   "id": "f23899ca",
   "metadata": {},
   "outputs": [],
   "source": [
    "#3.\n",
    "\n",
    "#value of x was in comments, = is assignment so in if condition, we should use == to check.\n",
    "x = 5\n",
    "if x == 10:\n",
    "    print(\"x is 10\")\n",
    "\n"
   ]
  },
  {
   "cell_type": "code",
   "execution_count": 9,
   "id": "c644c2f2",
   "metadata": {},
   "outputs": [
    {
     "name": "stdout",
     "output_type": "stream",
     "text": [
      "[2, 3, 5, 8]\n"
     ]
    }
   ],
   "source": [
    "#4.\n",
    "\n",
    "#numbers.sort() sorts the function. we have to use numbers again to print the list.\n",
    "numbers = [5, 3, 8, 2]\n",
    "numbers.sort()\n",
    "print(numbers)\n"
   ]
  },
  {
   "cell_type": "code",
   "execution_count": 15,
   "id": "c6bc9bfb",
   "metadata": {},
   "outputs": [
    {
     "name": "stdout",
     "output_type": "stream",
     "text": [
      "16\n"
     ]
    }
   ],
   "source": [
    "#5.\n",
    "\n",
    "#we need to assign n to a variable and then return the value to print.\n",
    "def square(n):\n",
    "    n *= n\n",
    "    return n\n",
    "print(square(4))\n"
   ]
  },
  {
   "cell_type": "code",
   "execution_count": 28,
   "id": "3a9dbcc0",
   "metadata": {},
   "outputs": [],
   "source": [
    "#6.\n",
    "\n",
    "#tuple elements cant be changes\n",
    "my_tuple = (1, 2, 3)\n",
    "#my_tuple[1] = 5\n",
    "\n",
    "my_tuple1=(1,5,3)\n"
   ]
  },
  {
   "cell_type": "code",
   "execution_count": 26,
   "id": "4a72685b",
   "metadata": {},
   "outputs": [
    {
     "name": "stdout",
     "output_type": "stream",
     "text": [
      "My name is Alice and I am 25 years old\n"
     ]
    }
   ],
   "source": [
    "#7.\n",
    "\n",
    "#argument age missing\n",
    "name = \"Alice\"\n",
    "age = 25\n",
    "print(\"My name is %s and I am %d years old\"%(name,age))\n"
   ]
  },
  {
   "cell_type": "code",
   "execution_count": 30,
   "id": "3de969fe",
   "metadata": {},
   "outputs": [
    {
     "name": "stdout",
     "output_type": "stream",
     "text": [
      "Lists are equal\n"
     ]
    }
   ],
   "source": [
    "#8.\n",
    "#== for comparison\n",
    "a = [1, 2, 3]\n",
    "b = [1, 2, 3]\n",
    "if a == b:\n",
    "    print(\"Lists are equal\")\n"
   ]
  },
  {
   "cell_type": "code",
   "execution_count": 32,
   "id": "dbe38465",
   "metadata": {},
   "outputs": [
    {
     "name": "stdout",
     "output_type": "stream",
     "text": [
      "5\n",
      "4\n",
      "3\n",
      "2\n"
     ]
    }
   ],
   "source": [
    "#9.\n",
    "#if reverse, decrement step needed.\n",
    "\n",
    "for i in range(5, 1,-1):\n",
    "    print(i)\n"
   ]
  },
  {
   "cell_type": "code",
   "execution_count": 37,
   "id": "30cb0523",
   "metadata": {},
   "outputs": [
    {
     "name": "stdout",
     "output_type": "stream",
     "text": [
      "John\n"
     ]
    }
   ],
   "source": [
    "#10.\n",
    "#to access disctionary - []\n",
    "\n",
    "student = {\"name\": \"John\", \"age\": 20}\n",
    "print(student[\"name\"])\n"
   ]
  },
  {
   "cell_type": "code",
   "execution_count": null,
   "id": "741da175-7272-4c14-a886-1fe7b420ddac",
   "metadata": {},
   "outputs": [],
   "source": []
  }
 ],
 "metadata": {
  "kernelspec": {
   "display_name": "Python 3 (ipykernel)",
   "language": "python",
   "name": "python3"
  },
  "language_info": {
   "codemirror_mode": {
    "name": "ipython",
    "version": 3
   },
   "file_extension": ".py",
   "mimetype": "text/x-python",
   "name": "python",
   "nbconvert_exporter": "python",
   "pygments_lexer": "ipython3",
   "version": "3.13.5"
  }
 },
 "nbformat": 4,
 "nbformat_minor": 5
}
